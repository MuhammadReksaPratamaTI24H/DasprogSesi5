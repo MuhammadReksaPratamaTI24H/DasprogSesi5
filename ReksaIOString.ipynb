{
 "cells": [
  {
   "cell_type": "code",
   "execution_count": 1,
   "id": "16a8ac69-57f7-4de1-8e7b-accea50c40ee",
   "metadata": {},
   "outputs": [
    {
     "name": "stdin",
     "output_type": "stream",
     "text": [
      "Masukkan nama Anda:  Muhamad Reksa Pratama\n",
      "Masukan nim Anda: 20240040061\n",
      "Masukkan umur Anda:  20\n",
      "Masukkan universitas Anda:  NusaPutra\n",
      "Masukkan jurusan Anda:  Teknik Informatika\n"
     ]
    },
    {
     "name": "stdout",
     "output_type": "stream",
     "text": [
      "\n",
      "===== BIODATA =====\n",
      "Nama: Muhamad Reksa Pratama\n",
      "Nim: 20240040061\n",
      "Umur: 20 tahun\n",
      "Universitas: NusaPutra\n",
      "Jurusan: Teknik Informatika\n"
     ]
    }
   ],
   "source": [
    "nama = input(\"Masukkan nama Anda: \")\n",
    "nim = input(\"Masukan nim Anda:\")\n",
    "umur = input(\"Masukkan umur Anda: \")\n",
    "universitas = input(\"Masukkan universitas Anda: \")\n",
    "jurusan = input(\"Masukkan jurusan Anda: \")\n",
    "print(\"\\n===== BIODATA =====\")\n",
    "print(\"Nama: {}\".format(nama))\n",
    "print(\"Nim: {}\".format(nim))\n",
    "print(\"Umur: {} tahun\".format(umur))\n",
    "print(\"Universitas: {}\".format(universitas))\n",
    "print(\"Jurusan: {}\".format(jurusan))"
   ]
  },
  {
   "cell_type": "code",
   "execution_count": 2,
   "id": "432b86e0-b621-4476-a33d-6a362976b347",
   "metadata": {},
   "outputs": [
    {
     "name": "stdout",
     "output_type": "stream",
     "text": [
      "a. putra nusa\n",
      "b. NIVERSITAS NSA PTRA SKABMI\n",
      "c. SUKABUMI NUSA PUTRA UNIVERSITAS\n",
      "d. UNPS\n",
      "e. TAS SAPU BUMI\n"
     ]
    }
   ],
   "source": [
    "kalimat = \"UNIVERSITAS NUSA PUTRA SUKABUMI\"\n",
    "\n",
    "if kalimat == \"UNIVERSITAS NUSA PUTRA SUKABUMI\":\n",
    "    splitAndLower = kalimat.split(\" \")\n",
    "    splitAndLower = splitAndLower[1:3]\n",
    "    splitAndLower[0],splitAndLower[1] = splitAndLower[1],splitAndLower[0]\n",
    "    splitAndLower = \" \".join(splitAndLower)\n",
    "    splitAndLower = splitAndLower.lower()\n",
    "    #########################################################\n",
    "    replaceU = kalimat.replace(\"U\", \"\")\n",
    "    #########################################################\n",
    "    threeToOne = kalimat.split(\" \")\n",
    "    threeToOne[0],threeToOne[3] = threeToOne[3],threeToOne[0]\n",
    "    threeToOne = \" \".join(threeToOne)\n",
    "    #########################################################\n",
    "    firstLetter = kalimat.split(\" \")\n",
    "    firstLetter = firstLetter[0][0], firstLetter[1][0], firstLetter[2][0], firstLetter[3][0]\n",
    "    firstLetter = \"\".join(firstLetter)\n",
    "    #########################################################\n",
    "    splice = kalimat[8:11], kalimat[14:19], kalimat[27:31]\n",
    "    splice = splice[0], splice[1].replace(\" \", \"\"), splice[2]\n",
    "    splice = \" \".join(splice)\n",
    "    #########################################################\n",
    "    print(\"a.\",splitAndLower)\n",
    "    print(\"b.\",replaceU)\n",
    "    print(\"c.\",threeToOne)\n",
    "    print(\"d.\",firstLetter)\n",
    "    print(\"e.\",splice)"
   ]
  },
  {
   "cell_type": "code",
   "execution_count": null,
   "id": "80208213-7f2f-49fa-864c-e1069d2a4d81",
   "metadata": {},
   "outputs": [],
   "source": []
  }
 ],
 "metadata": {
  "kernelspec": {
   "display_name": "Python 3 (ipykernel)",
   "language": "python",
   "name": "python3"
  },
  "language_info": {
   "codemirror_mode": {
    "name": "ipython",
    "version": 3
   },
   "file_extension": ".py",
   "mimetype": "text/x-python",
   "name": "python",
   "nbconvert_exporter": "python",
   "pygments_lexer": "ipython3",
   "version": "3.12.7"
  }
 },
 "nbformat": 4,
 "nbformat_minor": 5
}
